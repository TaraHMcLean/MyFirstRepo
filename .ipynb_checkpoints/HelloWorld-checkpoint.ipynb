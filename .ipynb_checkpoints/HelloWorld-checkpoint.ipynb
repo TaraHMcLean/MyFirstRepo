{
 "cells": [
  {
   "cell_type": "markdown",
   "id": "dbea35f3-5a59-4aa6-bdac-f27cad99ff8c",
   "metadata": {
    "tags": []
   },
   "source": [
    "print (\"Hello, world!\")\n"
   ]
  },
  {
   "cell_type": "markdown",
   "id": "28adac42-3ff3-46bd-879c-0a3917caa6cc",
   "metadata": {},
   "source": [
    "# My First Markdown Heading"
   ]
  },
  {
   "cell_type": "markdown",
   "id": "9444bebd-1105-4d20-9dcd-07ebee77696c",
   "metadata": {},
   "source": [
    "## My Second Markdown Heading"
   ]
  },
  {
   "cell_type": "markdown",
   "id": "ac9514a9-7bd9-4cbb-ac0a-0430cba0a202",
   "metadata": {},
   "source": [
    "This is some **bold** text. "
   ]
  },
  {
   "cell_type": "markdown",
   "id": "94dd397e-deee-4a8d-863d-16ccaffe1330",
   "metadata": {
    "jp-MarkdownHeadingCollapsed": true,
    "tags": []
   },
   "source": [
    "1. First item\n",
    "\n",
    "2. Second item\n",
    "\n",
    "3. Third item"
   ]
  },
  {
   "cell_type": "code",
   "execution_count": 12,
   "id": "094fd1a5-ea34-4a32-8def-50a1d8d5651d",
   "metadata": {},
   "outputs": [],
   "source": [
    "my_var = 5 "
   ]
  },
  {
   "cell_type": "code",
   "execution_count": 13,
   "id": "6c30e056-952d-43bc-bf90-1d917b991264",
   "metadata": {
    "tags": []
   },
   "outputs": [],
   "source": [
    "result = my_var * 2"
   ]
  },
  {
   "cell_type": "code",
   "execution_count": 14,
   "id": "93309c9d-c99e-4d2b-aac9-4c16ac1ade59",
   "metadata": {},
   "outputs": [
    {
     "name": "stdout",
     "output_type": "stream",
     "text": [
      "10\n"
     ]
    }
   ],
   "source": [
    "print(result)"
   ]
  }
 ],
 "metadata": {
  "kernelspec": {
   "display_name": "Python 3 (ipykernel)",
   "language": "python",
   "name": "python3"
  },
  "language_info": {
   "codemirror_mode": {
    "name": "ipython",
    "version": 3
   },
   "file_extension": ".py",
   "mimetype": "text/x-python",
   "name": "python",
   "nbconvert_exporter": "python",
   "pygments_lexer": "ipython3",
   "version": "3.10.9"
  }
 },
 "nbformat": 4,
 "nbformat_minor": 5
}
